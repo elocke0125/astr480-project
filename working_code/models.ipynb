{
 "cells": [
  {
   "cell_type": "code",
   "execution_count": 1,
   "id": "7fde8937-f034-46c2-9b3d-e590f0ab7adb",
   "metadata": {},
   "outputs": [],
   "source": [
    "import numpy as np\n",
    "from astropy.cosmology import FlatLambdaCDM\n",
    "from piXedfit.piXedfit_model import save_models_rest_spec "
   ]
  },
  {
   "cell_type": "code",
   "execution_count": 2,
   "id": "cd93e6bb-e01d-4e2f-a93a-124a2b9a730b",
   "metadata": {},
   "outputs": [
    {
     "name": "stdout",
     "output_type": "stream",
     "text": [
      "13.466983947061877 Gyr\n",
      "1.1292703424331443\n",
      "There are 7 parameters: \n",
      "['logzsol', 'log_tau', 'log_alpha', 'log_beta', 'log_age', 'dust2', 'gas_logu']\n",
      "rank: 2  Calculation process: 5000 from 5000 --> 100%\n",
      "\n",
      "\n",
      "\n",
      "\n"
     ]
    }
   ],
   "source": [
    "#GENERATION ISSUE SOLVED: USE LESS CORES TO GENERATE HIGH MODEL COUNT MODELS, 2 CORES FOR 50k for example\n",
    "\n",
    "#generator for sgas1110\n",
    "import numpy as np\n",
    "from astropy.cosmology import FlatLambdaCDM\n",
    "from piXedfit.piXedfit_model import save_models_rest_spec \n",
    "\n",
    "sfh_form = 4                    # \n",
    "add_neb_emission = 1            # turn on nebular emission\n",
    "\n",
    "nmodels = 20000                # number of model spectra to be produced\n",
    "nproc = 4                       # number of cores to be used in the calculation\n",
    "min_z = 0.0                     # minimum redshift which determines the maximum age of the models\n",
    "cosmo = FlatLambdaCDM(H0=70.0, Om0=0.3)\n",
    "age_univ = cosmo.age(min_z)\n",
    "max_log_age = np.log10(age_univ.value)\n",
    "print(age_univ)\n",
    "print(max_log_age)\n",
    "\n",
    "params_range = {'log_age':[-1.0,max_log_age]}\n",
    "\n",
    "name_out = '20k_sfh4_min0.hdf5'\n",
    "save_models_rest_spec(sfh_form=sfh_form, params_range=params_range,\n",
    "                        add_neb_emission=add_neb_emission, \n",
    "                        nmodels=nmodels, nproc=nproc, name_out=name_out)"
   ]
  },
  {
   "cell_type": "code",
   "execution_count": null,
   "id": "95e22317-18cc-4b5e-b9c0-b36f4082227d",
   "metadata": {},
   "outputs": [],
   "source": []
  }
 ],
 "metadata": {
  "kernelspec": {
   "display_name": "Python 3 (ipykernel)",
   "language": "python",
   "name": "python3"
  },
  "language_info": {
   "codemirror_mode": {
    "name": "ipython",
    "version": 3
   },
   "file_extension": ".py",
   "mimetype": "text/x-python",
   "name": "python",
   "nbconvert_exporter": "python",
   "pygments_lexer": "ipython3",
   "version": "3.12.9"
  }
 },
 "nbformat": 4,
 "nbformat_minor": 5
}
